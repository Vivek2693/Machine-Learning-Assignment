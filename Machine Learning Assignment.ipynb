{
 "cells": [
  {
   "cell_type": "code",
   "execution_count": null,
   "id": "521f8041",
   "metadata": {},
   "outputs": [],
   "source": [
    "Q1: Explain the following with examples:\n",
    "\n",
    "C) Artificial Intelligence (AI):\n",
    "\n",
    "Example: AI refers to the development of computer systems that can perform tasks that typically require human intelligence. Examples include natural language processing, computer vision, and game playing.\n",
    "<) Machine Learning (ML):\n",
    "\n",
    "Example: ML is a subset of AI that involves the development of algorithms that enable computers to learn from data. Examples include linear regression, decision trees, and support vector machines.\n",
    "I) Deep Learning (DL):\n",
    "\n",
    "Example: DL is a subfield of ML that focuses on neural networks with multiple layers (deep neural networks). Examples include convolutional neural networks (CNNs) for image recognition and recurrent neural networks (RNNs) for sequence data.\n",
    "Q2: What is supervised learning? List some examples of supervised learning.\n",
    "\n",
    "Supervised Learning Definition: In supervised learning, the algorithm is trained on a labeled dataset, where each training example is paired with the corresponding target or label.\n",
    "Examples:\n",
    "Predicting house prices based on features like square footage and number of bedrooms (Regression).\n",
    "Email spam classification (Classification).\n",
    "Handwriting recognition (Classification).\n",
    "Q3: What is unsupervised learning? List some examples of unsupervised learning.\n",
    "\n",
    "Unsupervised Learning Definition: In unsupervised learning, the algorithm is given data without explicit instructions on what to do with it. The system tries to learn the patterns and structure from the data.\n",
    "Examples:\n",
    "Clustering similar documents (Clustering).\n",
    "Dimensionality reduction for visualization (PCA).\n",
    "Market basket analysis for customer purchasing patterns (Association).\n",
    "Q4: What is the difference between AI, ML, DL, and DS?\n",
    "\n",
    "AI (Artificial Intelligence): General concept of machines performing tasks that typically require human intelligence.\n",
    "ML (Machine Learning): Subset of AI focused on algorithms learning from data and improving performance over time.\n",
    "DL (Deep Learning): Subset of ML involving neural networks with multiple layers, capable of learning complex patterns.\n",
    "DS (Data Science): Involves extracting insights and knowledge from data, including techniques from AI and ML.\n",
    "Q5: What are the main differences between supervised, unsupervised, and semi-supervised learning?\n",
    "\n",
    "Supervised Learning: Requires labeled training data for training the model.\n",
    "Unsupervised Learning: Works with unlabeled data, finding patterns and structure on its own.\n",
    "Semi-Supervised Learning: Combination of labeled and unlabeled data for training.\n",
    "Q6: What is train, test, and validation split? Explain the importance of each term.\n",
    "\n",
    "Train, Test, Validation Split:\n",
    "Train Set: Used to train the model.\n",
    "Test Set: Used to evaluate the model's performance.\n",
    "Validation Set: Used during training to tune hyperparameters and avoid overfitting.\n",
    "Importance:\n",
    "Train Set: Builds the model.\n",
    "Validation Set: Ensures the model generalizes well and helps tune hyperparameters.\n",
    "Test Set: Evaluates the model's final performance on unseen data.\n",
    "Q7: How can unsupervised learning be used in anomaly detection?\n",
    "\n",
    "Unsupervised Learning in Anomaly Detection:\n",
    "Anomalies are often rare and differ from normal patterns.\n",
    "Unsupervised learning can identify patterns in the data and flag instances that deviate significantly from these patterns as anomalies.\n",
    "Q8: List down some commonly used supervised learning algorithms and unsupervised learning algorithms.\n",
    "\n",
    "Supervised Learning Algorithms:\n",
    "Linear Regression, Decision Trees, Random Forest, Support Vector Machines, Neural Networks.\n",
    "Unsupervised Learning Algorithms:\n",
    "K-Means Clustering, Hierarchical Clustering, Principal Component Analysis (PCA), t-Distributed Stochastic Neighbor Embedding (t-SNE)."
   ]
  },
  {
   "cell_type": "code",
   "execution_count": null,
   "id": "249d266c",
   "metadata": {},
   "outputs": [],
   "source": []
  }
 ],
 "metadata": {
  "kernelspec": {
   "display_name": "Python 3 (ipykernel)",
   "language": "python",
   "name": "python3"
  },
  "language_info": {
   "codemirror_mode": {
    "name": "ipython",
    "version": 3
   },
   "file_extension": ".py",
   "mimetype": "text/x-python",
   "name": "python",
   "nbconvert_exporter": "python",
   "pygments_lexer": "ipython3",
   "version": "3.10.9"
  }
 },
 "nbformat": 4,
 "nbformat_minor": 5
}
